{
  "nbformat": 4,
  "nbformat_minor": 0,
  "metadata": {
    "file_extension": ".py",
    "kernelspec": {
      "display_name": "Python 3",
      "language": "python",
      "name": "python3"
    },
    "language_info": {
      "codemirror_mode": {
        "name": "ipython",
        "version": 3
      },
      "file_extension": ".py",
      "mimetype": "text/x-python",
      "name": "python",
      "nbconvert_exporter": "python",
      "pygments_lexer": "ipython3",
      "version": "3.6.8-final"
    },
    "mimetype": "text/x-python",
    "name": "python",
    "npconvert_exporter": "python",
    "pygments_lexer": "ipython3",
    "version": 3,
    "colab": {
      "name": "classificadores.ipynb",
      "provenance": [],
      "collapsed_sections": []
    }
  },
  "cells": [
    {
      "cell_type": "markdown",
      "metadata": {
        "colab_type": "text",
        "id": "Ln27DsPGtF6g"
      },
      "source": [
        "# Projeto #2 - Classificador supervisionado\n",
        "\n",
        "Antes de começar, leia as [Instruções](https://github.com/thvmm/pos-ds-ia/tree/master/projeto_2#instru%C3%A7%C3%B5es) e os [Critérios de Avaliação](https://github.com/thvmm/pos-ds-ia/tree/master/projeto_2#crit%C3%A9rios-de-avalia%C3%A7%C3%A3o)\n"
      ]
    },
    {
      "cell_type": "markdown",
      "metadata": {
        "colab_type": "text",
        "id": "b5rvLywztF6j"
      },
      "source": [
        "### 1) Qual a base escolhida?"
      ]
    },
    {
      "cell_type": "markdown",
      "metadata": {
        "colab_type": "text",
        "id": "qTvRlRxttF6l"
      },
      "source": [
        "O dataset consiste em 20 grupos de notícias, que compreende cerca de 18.000 postagens de notícias, sobre 20 tópicos divididos em dois subconjuntos: um para treinamento e outro para teste. A divisão entre o treino e o conjunto de teste é baseada em mensagens postadas antes e depois de uma data específica.\n",
        "\n",
        "Características do dataset:\n",
        "\n",
        "Features   | Valor\n",
        "--------- | ------\n",
        "Classes | 20\n",
        "Amostras | 18846\n",
        "Dimensionalidade | 1\n",
        "Recursos | texto\n",
        "\n",
        "Link da base: https://scikit-learn.org/stable/modules/generated/sklearn.datasets.fetch_20newsgroups.html#sklearn.datasets.fetch_20newsgroups\n",
        "\n"
      ]
    },
    {
      "cell_type": "markdown",
      "metadata": {
        "colab_type": "text",
        "id": "YYZ6FDzftF6m"
      },
      "source": [
        "### 2) **(10%)** Pré-processamento: entendimento do conjunto de dados\n",
        "- Quais são minhas features?\n",
        "- Quais são minhas classes?\n",
        "- Como estão distribuidas minhas classes?\n",
        "- Checagem se os valores estão dentro de um limite permitido ou razoável.\n",
        "- Tratamento de valores ausentes por eliminação ou substituição.\n",
        "- Conversão do tipo de dados.\n"
      ]
    },
    {
      "cell_type": "code",
      "metadata": {
        "colab_type": "code",
        "id": "VyTMRCWJ2bYg",
        "colab": {}
      },
      "source": [
        "# Implemente sua análise aqui. Use mais blocos se achar que ficará mais organizado.\n",
        "\n",
        "from __future__ import division, print_function, unicode_literals\n",
        "import pandas as pd\n",
        "import numpy as np\n",
        "import matplotlib.pyplot as plt\n",
        "import seaborn as sns\n",
        "%matplotlib inline"
      ],
      "execution_count": 0,
      "outputs": []
    },
    {
      "cell_type": "code",
      "metadata": {
        "colab_type": "code",
        "id": "yr4N_CjJ24Ki",
        "colab": {}
      },
      "source": [
        "def read_file(filename):\n",
        "    return pd.read_csv(filename, \n",
        "                       header=None, sep='\\t', \n",
        "                       names=['label', 'text'])"
      ],
      "execution_count": 0,
      "outputs": []
    },
    {
      "cell_type": "code",
      "metadata": {
        "colab_type": "code",
        "id": "DN6itUZ33SHn",
        "outputId": "c10e36b1-40e3-4b67-9df0-71c297bb0678",
        "colab": {
          "base_uri": "https://localhost:8080/",
          "height": 119
        }
      },
      "source": [
        "ng20_train_df = read_file('ng20-train-all-terms.txt')\n",
        "ng20_test_df = read_file('ng20-test-all-terms.txt')\n",
        "\n",
        "all_dfs = [ng20_train_df, ng20_test_df]\n",
        "\n",
        "all_df_names = [\"ng20_train_df\", \"ng20_test_df\"]\n",
        "\n",
        "for (df, name) in zip(all_dfs, all_df_names):\n",
        "    print(name, \"(#rows, #columns):\", df.shape)\n",
        "    print(df.head(1))"
      ],
      "execution_count": 53,
      "outputs": [
        {
          "output_type": "stream",
          "text": [
            "ng20_train_df (#rows, #columns): (11293, 2)\n",
            "         label                                               text\n",
            "0  alt.atheism  alt atheism faq atheist resources archive name...\n",
            "ng20_test_df (#rows, #columns): (7528, 2)\n",
            "         label                                               text\n",
            "0  alt.atheism  re about the bible quiz answers in article hea...\n"
          ],
          "name": "stdout"
        }
      ]
    },
    {
      "cell_type": "code",
      "metadata": {
        "colab_type": "code",
        "id": "ifhG8Nud3ZHm",
        "colab": {}
      },
      "source": [
        "def create_counts_df(df_train, df_test):\n",
        "    counts_df = pd.concat([df_train[\"label\"].value_counts(), \n",
        "                           df_test[\"label\"].value_counts()], \n",
        "                          axis=1, keys=[\"# train docs\", \"# test docs\"])\n",
        "    counts_df[\"total # docs\"] = counts_df.sum(axis=1)\n",
        "    counts_df.loc[\"Total\"] = counts_df.sum()\n",
        "    return counts_df"
      ],
      "execution_count": 0,
      "outputs": []
    },
    {
      "cell_type": "code",
      "metadata": {
        "colab_type": "code",
        "id": "W8NHofyx3jcx",
        "outputId": "7faf11f5-08e8-4c61-9675-c07c0755b248",
        "colab": {
          "base_uri": "https://localhost:8080/",
          "height": 836
        }
      },
      "source": [
        "ng20_counts = create_counts_df(ng20_train_df, ng20_test_df)\n",
        "ng20_counts"
      ],
      "execution_count": 55,
      "outputs": [
        {
          "output_type": "stream",
          "text": [
            "/usr/local/lib/python3.6/dist-packages/ipykernel_launcher.py:4: FutureWarning: Sorting because non-concatenation axis is not aligned. A future version\n",
            "of pandas will change to not sort by default.\n",
            "\n",
            "To accept the future behavior, pass 'sort=False'.\n",
            "\n",
            "To retain the current behavior and silence the warning, pass 'sort=True'.\n",
            "\n",
            "  after removing the cwd from sys.path.\n"
          ],
          "name": "stderr"
        },
        {
          "output_type": "execute_result",
          "data": {
            "text/html": [
              "<div>\n",
              "<style scoped>\n",
              "    .dataframe tbody tr th:only-of-type {\n",
              "        vertical-align: middle;\n",
              "    }\n",
              "\n",
              "    .dataframe tbody tr th {\n",
              "        vertical-align: top;\n",
              "    }\n",
              "\n",
              "    .dataframe thead th {\n",
              "        text-align: right;\n",
              "    }\n",
              "</style>\n",
              "<table border=\"1\" class=\"dataframe\">\n",
              "  <thead>\n",
              "    <tr style=\"text-align: right;\">\n",
              "      <th></th>\n",
              "      <th># train docs</th>\n",
              "      <th># test docs</th>\n",
              "      <th>total # docs</th>\n",
              "    </tr>\n",
              "  </thead>\n",
              "  <tbody>\n",
              "    <tr>\n",
              "      <th>alt.atheism</th>\n",
              "      <td>480</td>\n",
              "      <td>319</td>\n",
              "      <td>799</td>\n",
              "    </tr>\n",
              "    <tr>\n",
              "      <th>comp.graphics</th>\n",
              "      <td>584</td>\n",
              "      <td>389</td>\n",
              "      <td>973</td>\n",
              "    </tr>\n",
              "    <tr>\n",
              "      <th>comp.os.ms-windows.misc</th>\n",
              "      <td>572</td>\n",
              "      <td>394</td>\n",
              "      <td>966</td>\n",
              "    </tr>\n",
              "    <tr>\n",
              "      <th>comp.sys.ibm.pc.hardware</th>\n",
              "      <td>590</td>\n",
              "      <td>392</td>\n",
              "      <td>982</td>\n",
              "    </tr>\n",
              "    <tr>\n",
              "      <th>comp.sys.mac.hardware</th>\n",
              "      <td>578</td>\n",
              "      <td>385</td>\n",
              "      <td>963</td>\n",
              "    </tr>\n",
              "    <tr>\n",
              "      <th>comp.windows.x</th>\n",
              "      <td>593</td>\n",
              "      <td>392</td>\n",
              "      <td>985</td>\n",
              "    </tr>\n",
              "    <tr>\n",
              "      <th>misc.forsale</th>\n",
              "      <td>585</td>\n",
              "      <td>390</td>\n",
              "      <td>975</td>\n",
              "    </tr>\n",
              "    <tr>\n",
              "      <th>rec.autos</th>\n",
              "      <td>594</td>\n",
              "      <td>395</td>\n",
              "      <td>989</td>\n",
              "    </tr>\n",
              "    <tr>\n",
              "      <th>rec.motorcycles</th>\n",
              "      <td>598</td>\n",
              "      <td>398</td>\n",
              "      <td>996</td>\n",
              "    </tr>\n",
              "    <tr>\n",
              "      <th>rec.sport.baseball</th>\n",
              "      <td>597</td>\n",
              "      <td>397</td>\n",
              "      <td>994</td>\n",
              "    </tr>\n",
              "    <tr>\n",
              "      <th>rec.sport.hockey</th>\n",
              "      <td>600</td>\n",
              "      <td>399</td>\n",
              "      <td>999</td>\n",
              "    </tr>\n",
              "    <tr>\n",
              "      <th>sci.crypt</th>\n",
              "      <td>595</td>\n",
              "      <td>396</td>\n",
              "      <td>991</td>\n",
              "    </tr>\n",
              "    <tr>\n",
              "      <th>sci.electronics</th>\n",
              "      <td>591</td>\n",
              "      <td>393</td>\n",
              "      <td>984</td>\n",
              "    </tr>\n",
              "    <tr>\n",
              "      <th>sci.med</th>\n",
              "      <td>594</td>\n",
              "      <td>396</td>\n",
              "      <td>990</td>\n",
              "    </tr>\n",
              "    <tr>\n",
              "      <th>sci.space</th>\n",
              "      <td>593</td>\n",
              "      <td>394</td>\n",
              "      <td>987</td>\n",
              "    </tr>\n",
              "    <tr>\n",
              "      <th>soc.religion.christian</th>\n",
              "      <td>598</td>\n",
              "      <td>398</td>\n",
              "      <td>996</td>\n",
              "    </tr>\n",
              "    <tr>\n",
              "      <th>talk.politics.guns</th>\n",
              "      <td>545</td>\n",
              "      <td>364</td>\n",
              "      <td>909</td>\n",
              "    </tr>\n",
              "    <tr>\n",
              "      <th>talk.politics.mideast</th>\n",
              "      <td>564</td>\n",
              "      <td>376</td>\n",
              "      <td>940</td>\n",
              "    </tr>\n",
              "    <tr>\n",
              "      <th>talk.politics.misc</th>\n",
              "      <td>465</td>\n",
              "      <td>310</td>\n",
              "      <td>775</td>\n",
              "    </tr>\n",
              "    <tr>\n",
              "      <th>talk.religion.misc</th>\n",
              "      <td>377</td>\n",
              "      <td>251</td>\n",
              "      <td>628</td>\n",
              "    </tr>\n",
              "    <tr>\n",
              "      <th>Total</th>\n",
              "      <td>11293</td>\n",
              "      <td>7528</td>\n",
              "      <td>18821</td>\n",
              "    </tr>\n",
              "  </tbody>\n",
              "</table>\n",
              "</div>"
            ],
            "text/plain": [
              "                          # train docs  # test docs  total # docs\n",
              "alt.atheism                        480          319           799\n",
              "comp.graphics                      584          389           973\n",
              "comp.os.ms-windows.misc            572          394           966\n",
              "comp.sys.ibm.pc.hardware           590          392           982\n",
              "comp.sys.mac.hardware              578          385           963\n",
              "comp.windows.x                     593          392           985\n",
              "misc.forsale                       585          390           975\n",
              "rec.autos                          594          395           989\n",
              "rec.motorcycles                    598          398           996\n",
              "rec.sport.baseball                 597          397           994\n",
              "rec.sport.hockey                   600          399           999\n",
              "sci.crypt                          595          396           991\n",
              "sci.electronics                    591          393           984\n",
              "sci.med                            594          396           990\n",
              "sci.space                          593          394           987\n",
              "soc.religion.christian             598          398           996\n",
              "talk.politics.guns                 545          364           909\n",
              "talk.politics.mideast              564          376           940\n",
              "talk.politics.misc                 465          310           775\n",
              "talk.religion.misc                 377          251           628\n",
              "Total                            11293         7528         18821"
            ]
          },
          "metadata": {
            "tags": []
          },
          "execution_count": 55
        }
      ]
    },
    {
      "cell_type": "code",
      "metadata": {
        "id": "tr-OigMaZtWJ",
        "colab_type": "code",
        "colab": {
          "base_uri": "https://localhost:8080/",
          "height": 461
        },
        "outputId": "cf42223c-19f8-49da-c72d-eee3ae844c0a"
      },
      "source": [
        "ng20_counts.iloc[:-1,:-1].plot.barh(stacked=True, \n",
        "                                    figsize=(9, 7),\n",
        "                                    title=\"Number of train and test documents per class for ng20\")"
      ],
      "execution_count": 56,
      "outputs": [
        {
          "output_type": "execute_result",
          "data": {
            "text/plain": [
              "<matplotlib.axes._subplots.AxesSubplot at 0x7f6dca76c5c0>"
            ]
          },
          "metadata": {
            "tags": []
          },
          "execution_count": 56
        },
        {
          "output_type": "display_data",
          "data": {
            "image/png": "[encoded data removed]",
            "text/plain": [
              "<Figure size 648x504 with 1 Axes>"
            ]
          },
          "metadata": {
            "tags": []
          }
        }
      ]
    },
    {
      "cell_type": "code",
      "metadata": {
        "id": "Wpx0KE0paB8d",
        "colab_type": "code",
        "colab": {}
      },
      "source": [
        "from sklearn.feature_extraction.text import CountVectorizer\n",
        "\n",
        "def describe_dataset(name, df_train):\n",
        "    print(\"Dataset:\", name)\n",
        "\n",
        "    cvec = CountVectorizer()\n",
        "    cvec.fit(df_train[\"text\"])\n",
        "    with_stop = len(cvec.get_feature_names())\n",
        "    print(\"Number of features including stopwords:\", with_stop)\n",
        "\n",
        "    cvec = CountVectorizer(stop_words=\"english\")\n",
        "    cvec.fit(df_train[\"text\"])\n",
        "    without_stop = len(cvec.get_feature_names())\n",
        "    print(\"Number of features excluding stopwords:\", without_stop)\n",
        "    \n",
        "    print(\"Difference in number of features:\", with_stop-without_stop)\n",
        "    return with_stop, without_stop"
      ],
      "execution_count": 0,
      "outputs": []
    },
    {
      "cell_type": "code",
      "metadata": {
        "id": "P1OKEZmfaXTX",
        "colab_type": "code",
        "colab": {
          "base_uri": "https://localhost:8080/",
          "height": 85
        },
        "outputId": "0b0486fb-d0eb-463d-abef-d328511c00ce"
      },
      "source": [
        "ng20_with_stop, ng20_without_stop = describe_dataset(\"ng20\", ng20_train_df)"
      ],
      "execution_count": 58,
      "outputs": [
        {
          "output_type": "stream",
          "text": [
            "Dataset: ng20\n",
            "Number of features including stopwords: 73686\n",
            "Number of features excluding stopwords: 73375\n",
            "Difference in number of features: 311\n"
          ],
          "name": "stdout"
        }
      ]
    },
    {
      "cell_type": "code",
      "metadata": {
        "id": "lRNLpl28ackJ",
        "colab_type": "code",
        "colab": {
          "base_uri": "https://localhost:8080/",
          "height": 298
        },
        "outputId": "3f171f71-9297-4b55-e6eb-58fa3d5b67a6"
      },
      "source": [
        "features_df = pd.DataFrame({\"ng20\": [ng20_with_stop]},\n",
        "                           index=[\"# features \\n (including stopwords)\"])\n",
        "features_df[[\"ng20\"]].plot.barh(title=\"Number of features per dataset\")"
      ],
      "execution_count": 59,
      "outputs": [
        {
          "output_type": "execute_result",
          "data": {
            "text/plain": [
              "<matplotlib.axes._subplots.AxesSubplot at 0x7f6dcd088748>"
            ]
          },
          "metadata": {
            "tags": []
          },
          "execution_count": 59
        },
        {
          "output_type": "display_data",
          "data": {
            "image/png": "[encoded data removed]",
            "text/plain": [
              "<Figure size 432x288 with 1 Axes>"
            ]
          },
          "metadata": {
            "tags": []
          }
        }
      ]
    },
    {
      "cell_type": "code",
      "metadata": {
        "id": "nJ8p3fO2ajFn",
        "colab_type": "code",
        "colab": {
          "base_uri": "https://localhost:8080/",
          "height": 298
        },
        "outputId": "4c86600d-7cb4-4c0d-da52-2c37c6ac19dd"
      },
      "source": [
        "train_docs_df = pd.DataFrame({\"ng20\": ng20_counts.loc[\"Total\"][\"# train docs\"]},\n",
        "                             index=[\"# train docs\"])\n",
        "train_docs_df[[\"ng20\"]].plot.barh(title=\"Number of train documents per dataset\")"
      ],
      "execution_count": 60,
      "outputs": [
        {
          "output_type": "execute_result",
          "data": {
            "text/plain": [
              "<matplotlib.axes._subplots.AxesSubplot at 0x7f6dcab79dd8>"
            ]
          },
          "metadata": {
            "tags": []
          },
          "execution_count": 60
        },
        {
          "output_type": "display_data",
          "data": {
            "image/png": "[encoded data removed]",
            "text/plain": [
              "<Figure size 432x288 with 1 Axes>"
            ]
          },
          "metadata": {
            "tags": []
          }
        }
      ]
    },
    {
      "cell_type": "markdown",
      "metadata": {
        "colab_type": "text",
        "id": "xwj11_GTtF7E"
      },
      "source": [
        "### 3) **(80%)** Nos blocos seguintes implemente seus classificadores (serão implementados 2 métodos diferentes)."
      ]
    },
    {
      "cell_type": "markdown",
      "metadata": {
        "colab_type": "text",
        "id": "b7H4RId2tF7F"
      },
      "source": [
        "#### 3.1) Qual método escolhido?"
      ]
    },
    {
      "cell_type": "markdown",
      "metadata": {
        "colab_type": "text",
        "id": "A6EHGaxhtF7H"
      },
      "source": [
        "**Indique o método escolhido**\n",
        "\n",
        "Vector Method"
      ]
    },
    {
      "cell_type": "markdown",
      "metadata": {
        "colab_type": "text",
        "id": "nUG1VmFrtF7I"
      },
      "source": [
        "#### 3.2) **(10%)** Baseline - Implemente seu classificador da forma mais simples possível para esse ser seu baseline"
      ]
    },
    {
      "cell_type": "code",
      "metadata": {
        "colab_type": "code",
        "id": "fMZkkcANtF7J",
        "colab": {}
      },
      "source": [
        "# Implementação. Use mais blocos se achar que ficará mais organizado.\n",
        "\n",
        "from sklearn.feature_extraction.text import CountVectorizer\n",
        "\n",
        "def create_word_counts_csv(docs, out_file, stopwords=None):\n",
        "  \n",
        "    cvec = CountVectorizer(stop_words=stopwords)\n",
        "    cvec.fit(docs)\n",
        "\n",
        "    df = pd.DataFrame(cvec.transform(docs).todense(),\n",
        "                      columns=cvec.get_feature_names())\n",
        "\n",
        "    df_word_counts = df.sum(axis=0)\n",
        "    df_word_counts.sort_values(ascending=False, inplace=True)\n",
        "    df_word_counts[:50].to_csv(out_file)"
      ],
      "execution_count": 0,
      "outputs": []
    },
    {
      "cell_type": "markdown",
      "metadata": {
        "colab_type": "text",
        "id": "CQyLXeWNtF7M"
      },
      "source": [
        "#### 3.3) **(20%)** Versão 1 - O que podemos fazer para melhorar nosso baseline? Aplique técnicas como redução de dimensionalidade, normalização ou outras. Compare os resultados."
      ]
    },
    {
      "cell_type": "code",
      "metadata": {
        "colab_type": "code",
        "id": "4W45H0-gtF7O",
        "colab": {}
      },
      "source": [
        "# Implementação. Use mais blocos se achar que ficará mais organizado.\n",
        "\n",
        "from sklearn.feature_extraction.text import CountVectorizer\n",
        "from sklearn.feature_extraction.text import TfidfVectorizer\n",
        "from sklearn.decomposition import TruncatedSVD\n",
        "\n",
        "from sklearn.neighbors import KNeighborsClassifier\n",
        "from sklearn.svm import LinearSVC\n",
        "\n",
        "from sklearn.metrics import confusion_matrix, accuracy_score"
      ],
      "execution_count": 0,
      "outputs": []
    },
    {
      "cell_type": "code",
      "metadata": {
        "colab_type": "code",
        "id": "AaRt3x-j_Z7w",
        "colab": {}
      },
      "source": [
        "def to_tfidf(df_train, df_test):\n",
        "    vec = TfidfVectorizer(stop_words='english', smooth_idf=False)\n",
        "    vec.fit(df_train[\"text\"])\n",
        "    X_train = vec.transform(df_train[\"text\"])\n",
        "    y_train = df_train[\"label\"]\n",
        "    X_test = vec.transform(df_test[\"text\"])\n",
        "    y_test = df_test[\"label\"]\n",
        "    return X_train, y_train, X_test, y_test\n",
        "    \n",
        "def apply_model(model, X_train, y_train, X_test, y_test):\n",
        "    model.fit(X_train, y_train)\n",
        "    y_pred = model.predict(X_test)\n",
        "    score = accuracy_score(y_test, y_pred)\n",
        "    return score\n",
        "\n",
        "def apply_models(models, df_train, df_test, use_lsi=False):\n",
        "    X_train, y_train, X_test, y_test = to_tfidf(df_train, df_test)\n",
        "    if use_lsi:\n",
        "        svd = TruncatedSVD(n_components=200, random_state=42)\n",
        "        X_train = svd.fit_transform(X_train)\n",
        "        X_test = svd.transform(X_test)\n",
        "\n",
        "    return [(name, apply_model(model, X_train, y_train, X_test, y_test)) \\\n",
        "            for (name, model) in models]"
      ],
      "execution_count": 0,
      "outputs": []
    },
    {
      "cell_type": "markdown",
      "metadata": {
        "colab_type": "text",
        "id": "Qa5yVE9gtF7X"
      },
      "source": [
        "#### 3.4) **(10%)** Tunning - Agora que temos um resultado promissor, vamos tentar melhorar o resultado alterando um ou mais hiper-parametro. Compare os resultados."
      ]
    },
    {
      "cell_type": "code",
      "metadata": {
        "colab_type": "code",
        "id": "KtM5otYGtF7Y",
        "colab": {}
      },
      "source": [
        "# Implementação. Use mais blocos se achar que ficará mais organizado.\n",
        "\n",
        "webpage_models = (\n",
        "    (\"Vector Method\", KNeighborsClassifier(n_neighbors=1)),\n",
        ")"
      ],
      "execution_count": 0,
      "outputs": []
    },
    {
      "cell_type": "code",
      "metadata": {
        "colab_type": "code",
        "id": "PywWiRAl7svR",
        "outputId": "a299160b-2065-4595-e5a1-8dc1ddd58377",
        "colab": {
          "base_uri": "https://localhost:8080/",
          "height": 34
        }
      },
      "source": [
        "ng20_results = apply_models(webpage_models, ng20_train_df, ng20_test_df)\n",
        "ng20_results"
      ],
      "execution_count": 65,
      "outputs": [
        {
          "output_type": "execute_result",
          "data": {
            "text/plain": [
              "[('Vector Method', 0.7217056323060573)]"
            ]
          },
          "metadata": {
            "tags": []
          },
          "execution_count": 65
        }
      ]
    },
    {
      "cell_type": "markdown",
      "metadata": {
        "colab_type": "text",
        "id": "oNBUThQCtF7c"
      },
      "source": [
        "#### 3.5) Qual método escolhido?"
      ]
    },
    {
      "cell_type": "markdown",
      "metadata": {
        "colab_type": "text",
        "id": "8n9bbXswtF7e"
      },
      "source": [
        "**Indique o método escolhido**\n",
        "\n",
        "SVM"
      ]
    },
    {
      "cell_type": "markdown",
      "metadata": {
        "colab_type": "text",
        "id": "3z7y2O-HtF7f"
      },
      "source": [
        "#### 3.6) **(10%)** Baseline - Implemente seu classificador da forma mais simples possível para esse ser seu baseline"
      ]
    },
    {
      "cell_type": "code",
      "metadata": {
        "colab_type": "code",
        "id": "rvLn-EIDtF7g",
        "colab": {}
      },
      "source": [
        "# Implementação. Use mais blocos se achar que ficará mais organizado.\n",
        "\n",
        "from sklearn.feature_extraction.text import CountVectorizer\n",
        "\n",
        "def create_word_counts_csv(docs, out_file, stopwords=None):\n",
        "  \n",
        "    cvec = CountVectorizer(stop_words=stopwords)\n",
        "    cvec.fit(docs)\n",
        "\n",
        "    df = pd.DataFrame(cvec.transform(docs).todense(),\n",
        "                      columns=cvec.get_feature_names())\n",
        "\n",
        "    df_word_counts = df.sum(axis=0)\n",
        "    df_word_counts.sort_values(ascending=False, inplace=True)\n",
        "    df_word_counts[:50].to_csv(out_file)"
      ],
      "execution_count": 0,
      "outputs": []
    },
    {
      "cell_type": "markdown",
      "metadata": {
        "colab_type": "text",
        "id": "DqeAAF4jtF7k"
      },
      "source": [
        "#### 3.7) **(20%)** Versão 1 - O que podemos fazer para melhorar nosso baseline? Aplique técnicas como redução de dimensionalidade, normalização ou outras. Compare os resultados."
      ]
    },
    {
      "cell_type": "code",
      "metadata": {
        "colab_type": "code",
        "id": "zBtfc2bFtF7m",
        "colab": {}
      },
      "source": [
        "# Implementação. Use mais blocos se achar que ficará mais organizado.\n",
        "\n",
        "from sklearn.feature_extraction.text import CountVectorizer\n",
        "from sklearn.feature_extraction.text import TfidfVectorizer\n",
        "from sklearn.decomposition import TruncatedSVD\n",
        "\n",
        "from sklearn.neighbors import KNeighborsClassifier\n",
        "from sklearn.svm import LinearSVC\n",
        "\n",
        "from sklearn.metrics import confusion_matrix, accuracy_score"
      ],
      "execution_count": 0,
      "outputs": []
    },
    {
      "cell_type": "code",
      "metadata": {
        "id": "8waGa_2pchzA",
        "colab_type": "code",
        "colab": {}
      },
      "source": [
        "def to_tfidf(df_train, df_test):\n",
        "    vec = TfidfVectorizer(stop_words='english', smooth_idf=False)\n",
        "    vec.fit(df_train[\"text\"])\n",
        "    X_train = vec.transform(df_train[\"text\"])\n",
        "    y_train = df_train[\"label\"]\n",
        "    X_test = vec.transform(df_test[\"text\"])\n",
        "    y_test = df_test[\"label\"]\n",
        "    return X_train, y_train, X_test, y_test\n",
        "    \n",
        "def apply_model(model, X_train, y_train, X_test, y_test):\n",
        "    model.fit(X_train, y_train)\n",
        "    y_pred = model.predict(X_test)\n",
        "    score = accuracy_score(y_test, y_pred)\n",
        "    return score\n",
        "\n",
        "def apply_models(models, df_train, df_test, use_lsi=False):\n",
        "    X_train, y_train, X_test, y_test = to_tfidf(df_train, df_test)\n",
        "    if use_lsi:\n",
        "        svd = TruncatedSVD(n_components=200, random_state=42)\n",
        "        X_train = svd.fit_transform(X_train)\n",
        "        X_test = svd.transform(X_test)\n",
        "\n",
        "    return [(name, apply_model(model, X_train, y_train, X_test, y_test)) \\\n",
        "            for (name, model) in models]"
      ],
      "execution_count": 0,
      "outputs": []
    },
    {
      "cell_type": "markdown",
      "metadata": {
        "colab_type": "text",
        "id": "YKMyDvI4tF7q"
      },
      "source": [
        "#### 3.8) **(10%)** Tunning - Agora que temos um resultado promissor, vamos tentar melhorar o resultado alterando um ou mais hiper-parametro. Compare os resultados."
      ]
    },
    {
      "cell_type": "code",
      "metadata": {
        "colab_type": "code",
        "id": "tw8673svtF7r",
        "colab": {}
      },
      "source": [
        "# Implementação. Use mais blocos se achar que ficará mais organizado.\n",
        "\n",
        "webpage_models = (\n",
        "    (\"SVM\", LinearSVC()),\n",
        ")"
      ],
      "execution_count": 0,
      "outputs": []
    },
    {
      "cell_type": "code",
      "metadata": {
        "colab_type": "code",
        "id": "FIix4tsHBXB5",
        "colab": {
          "base_uri": "https://localhost:8080/",
          "height": 34
        },
        "outputId": "da747342-da83-46cf-900e-6fe5f17eecc0"
      },
      "source": [
        "ng20_results = apply_models(webpage_models, ng20_train_df, ng20_test_df)\n",
        "ng20_results"
      ],
      "execution_count": 70,
      "outputs": [
        {
          "output_type": "execute_result",
          "data": {
            "text/plain": [
              "[('SVM', 0.8471041445270988)]"
            ]
          },
          "metadata": {
            "tags": []
          },
          "execution_count": 70
        }
      ]
    },
    {
      "cell_type": "markdown",
      "metadata": {
        "colab_type": "text",
        "id": "3o9PweG0tF7v"
      },
      "source": [
        "### 5) **(10%)** Conclusões"
      ]
    },
    {
      "cell_type": "markdown",
      "metadata": {
        "colab_type": "text",
        "id": "SC5-a5FztF7x"
      },
      "source": [
        "*Compare seus resultados. Imaginando que sua solução fosse para produção, qual deles você escolheria? Por que? Quais os riscos você enxerga? O que recomendaria de próximos passos para melhorar os resultados?*"
      ]
    },
    {
      "cell_type": "markdown",
      "metadata": {
        "colab_type": "text",
        "id": "F5CJMY3FtF7y"
      },
      "source": [
        "Dentre os dois classificadores o SVM teve um melhor aproveitamento do que o Vector.\n",
        "\n",
        "O Vector determina a classe de um documento de teste, localizando o documento de treino mais semelhante (usando similaridade de cosseno) e retornando sua classe.\n",
        "\n",
        "O SVM determina a classe de um documento de teste projetando-o em um hiper-espaço de alta dimensão e determinando em que classe corresponde o \"hiper-point\" no qual foi projetado.\n"
      ]
    }
  ]
}
